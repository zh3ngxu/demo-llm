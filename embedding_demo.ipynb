{
 "cells": [
  {
   "cell_type": "markdown",
   "metadata": {},
   "source": [
    "In natural language processing (NLP), word embeddings are a type of word representation that allows words to be expressed as vectors of real numbers. These vectors can capture semantic and syntactic similarities between words, which can be useful in various NLP tasks. The most common example of word embeddings is the word2vec model, which creates a dense vector space of words based on their co-occurrence in a corpus of text."
   ]
  },
  {
   "cell_type": "code",
   "execution_count": 1,
   "metadata": {},
   "outputs": [
    {
     "name": "stdout",
     "output_type": "stream",
     "text": [
      "Defaulting to user installation because normal site-packages is not writeable\n",
      "Collecting gensim\n",
      "  Downloading gensim-4.3.2-cp38-cp38-macosx_10_9_x86_64.whl.metadata (8.5 kB)\n",
      "Requirement already satisfied: numpy>=1.18.5 in /Users/ZXu/Library/Python/3.8/lib/python/site-packages (from gensim) (1.24.4)\n",
      "Requirement already satisfied: scipy>=1.7.0 in /Users/ZXu/Library/Python/3.8/lib/python/site-packages (from gensim) (1.7.1)\n",
      "Collecting smart-open>=1.8.1 (from gensim)\n",
      "  Downloading smart_open-6.4.0-py3-none-any.whl.metadata (21 kB)\n",
      "Collecting numpy>=1.18.5 (from gensim)\n",
      "  Downloading numpy-1.22.4-cp38-cp38-macosx_10_15_x86_64.whl (17.6 MB)\n",
      "\u001b[2K     \u001b[90m━━━━━━━━━━━━━━━━━━━━━━━━━━━━━━━━━━━━━━━━\u001b[0m \u001b[32m17.6/17.6 MB\u001b[0m \u001b[31m7.9 MB/s\u001b[0m eta \u001b[36m0:00:00\u001b[0m00:01\u001b[0m00:01\u001b[0m\n",
      "\u001b[?25hDownloading gensim-4.3.2-cp38-cp38-macosx_10_9_x86_64.whl (24.1 MB)\n",
      "\u001b[2K   \u001b[90m━━━━━━━━━━━━━━━━━━━━━━━━━━━━━━━━━━━━━━━━\u001b[0m \u001b[32m24.1/24.1 MB\u001b[0m \u001b[31m6.6 MB/s\u001b[0m eta \u001b[36m0:00:00\u001b[0m00:01\u001b[0m00:01\u001b[0m\n",
      "\u001b[?25hDownloading smart_open-6.4.0-py3-none-any.whl (57 kB)\n",
      "\u001b[2K   \u001b[90m━━━━━━━━━━━━━━━━━━━━━━━━━━━━━━━━━━━━━━━━\u001b[0m \u001b[32m57.0/57.0 kB\u001b[0m \u001b[31m1.7 MB/s\u001b[0m eta \u001b[36m0:00:00\u001b[0m\n",
      "\u001b[?25hInstalling collected packages: smart-open, numpy, gensim\n",
      "  Attempting uninstall: numpy\n",
      "    Found existing installation: numpy 1.24.4\n",
      "    Uninstalling numpy-1.24.4:\n",
      "      Successfully uninstalled numpy-1.24.4\n",
      "Successfully installed gensim-4.3.2 numpy-1.22.4 smart-open-6.4.0\n",
      "\n",
      "\u001b[1m[\u001b[0m\u001b[34;49mnotice\u001b[0m\u001b[1;39;49m]\u001b[0m\u001b[39;49m A new release of pip is available: \u001b[0m\u001b[31;49m23.3.2\u001b[0m\u001b[39;49m -> \u001b[0m\u001b[32;49m24.0\u001b[0m\n",
      "\u001b[1m[\u001b[0m\u001b[34;49mnotice\u001b[0m\u001b[1;39;49m]\u001b[0m\u001b[39;49m To update, run: \u001b[0m\u001b[32;49m/Library/Developer/CommandLineTools/usr/bin/python3 -m pip install --upgrade pip\u001b[0m\n"
     ]
    }
   ],
   "source": [
    "!pip install gensim"
   ]
  },
  {
   "cell_type": "code",
   "execution_count": 3,
   "metadata": {},
   "outputs": [
    {
     "name": "stdout",
     "output_type": "stream",
     "text": [
      "[==================================================] 100.0% 199.5/199.5MB downloaded\n",
      "Embedding for 'king': [-0.77201   -0.16548    0.22263   -0.56608    0.15602   -0.050659\n",
      "  0.076896   0.90058   -0.22829   -0.083794  -0.0087308  0.12425\n",
      " -3.6283    -0.70631    0.3391    -0.26866    0.012886   0.1314\n",
      "  0.13072    0.1594    -0.43884    0.30631   -0.51841   -0.86402\n",
      "  0.89706   -0.29222    0.071633  -0.7285     0.47514   -0.54581\n",
      "  0.37375   -0.2815    -0.82164   -0.1245     0.06561    0.2686\n",
      "  0.12587   -0.50189    0.41322   -0.40509   -0.88866   -0.71627\n",
      " -0.010728  -0.29513    0.098062   0.47936    0.49517   -0.30246\n",
      "  0.37465    0.010619 ]\n",
      "Embedding for 'queen': [-1.1483    0.056701  0.45495   0.78913   0.12648  -0.26203   1.0416\n",
      "  0.81926   0.16787  -0.024409 -0.32818  -0.26686  -3.3949   -0.51973\n",
      "  0.099631 -0.19844  -0.25297   0.32921  -0.10087   0.62074  -0.07907\n",
      " -0.26732  -0.40307  -0.28702   1.1004    0.12477  -0.44017   0.079431\n",
      "  0.41238  -0.43621  -0.14126  -0.51883   0.060997 -0.43023  -0.1929\n",
      " -0.036752  0.51238  -0.042892 -0.30856   0.015481 -1.0621   -0.7495\n",
      " -0.34737   0.64046  -0.29651  -0.19719   0.2932   -0.13418   0.1935\n",
      " -0.4291  ]\n",
      "Embedding for 'cat': [-3.8646e-01 -3.4356e-01 -3.0380e-01 -2.2574e-01 -8.3226e-01 -5.0343e-01\n",
      "  5.5678e-01  1.5743e-01  8.8370e-02  1.4789e-01 -1.6460e-01  6.6234e-01\n",
      " -3.7069e+00 -1.8796e-01  2.5459e-04  5.1017e-01  3.0290e-01 -1.1149e+00\n",
      "  3.2269e-01 -2.3953e-01 -6.4404e-01  2.7223e-01  2.4307e-01 -2.7370e-01\n",
      " -1.1198e-01  4.2510e-01 -9.2354e-01  2.3444e-01  5.3379e-01  2.2733e-01\n",
      " -5.1808e-01  3.2424e-01  3.9646e-01 -5.5740e-01 -4.9668e-01 -6.1077e-02\n",
      "  2.3813e-01 -3.3908e-01  3.1550e-01 -3.6068e-01 -1.2946e+00 -1.5165e-01\n",
      " -8.9922e-01  4.0949e-01  6.3683e-01  1.1439e+00  7.2612e-01  2.4406e-01\n",
      " -3.1790e-01 -6.0281e-01]\n",
      "Similarity between 'king' and 'queen': 0.7713881134986877\n",
      "Similarity between 'king' and 'cat': 0.6407784819602966\n",
      "Similarity between 'queen' and 'cat': 0.6333909034729004\n"
     ]
    }
   ],
   "source": [
    "import gensim.downloader as api\n",
    "\n",
    "\n",
    "word_vectors = api.load(\"glove-twitter-50\") # Load the pre-trained word vectors\n",
    "\n",
    "word1 = \"king\"\n",
    "word2 = \"queen\"\n",
    "word3 = \"cat\"\n",
    "\n",
    "similarity1 = word_vectors.similarity(word1, word2)\n",
    "similarity2 = word_vectors.similarity(word1, word3)\n",
    "similarity3 = word_vectors.similarity(word2, word3)\n",
    "\n",
    "# Print the embedding vector for each word\n",
    "print(f\"Embedding for '{word1}': {word_vectors[word1]}\")\n",
    "print(f\"Embedding for '{word2}': {word_vectors[word2]}\")\n",
    "print(f\"Embedding for '{word3}': {word_vectors[word3]}\")\n",
    "\n",
    "# Print the similarities\n",
    "print(f\"Similarity between '{word1}' and '{word2}': {similarity1}\")\n",
    "print(f\"Similarity between '{word1}' and '{word3}': {similarity2}\")\n",
    "print(f\"Similarity between '{word2}' and '{word3}': {similarity3}\")\n"
   ]
  }
 ],
 "metadata": {
  "kernelspec": {
   "display_name": "Python 3",
   "language": "python",
   "name": "python3"
  },
  "language_info": {
   "codemirror_mode": {
    "name": "ipython",
    "version": 3
   },
   "file_extension": ".py",
   "mimetype": "text/x-python",
   "name": "python",
   "nbconvert_exporter": "python",
   "pygments_lexer": "ipython3",
   "version": "3.8.2"
  }
 },
 "nbformat": 4,
 "nbformat_minor": 2
}
