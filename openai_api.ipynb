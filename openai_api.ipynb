{
 "cells": [
  {
   "cell_type": "code",
   "execution_count": 5,
   "metadata": {},
   "outputs": [],
   "source": [
    "from openai import OpenAI\n",
    "client = OpenAI()\n",
    "\n",
    "response = client.chat.completions.create(\n",
    "  model=\"gpt-3.5-turbo\",\n",
    "  messages=[\n",
    "    {\"role\": \"system\", \"content\": \"You are an expert in data engineering.\"},\n",
    "    {\"role\": \"user\", \"content\": \"What books are recommended to learn data engineering\"},\n",
    "  ]\n",
    ")"
   ]
  },
  {
   "cell_type": "code",
   "execution_count": 13,
   "metadata": {},
   "outputs": [
    {
     "data": {
      "text/plain": [
       "ChatCompletion(id='chatcmpl-8uLMgipOdxQIaa6vCdustbGbcMZe6', choices=[Choice(finish_reason='stop', index=0, logprobs=None, message=ChatCompletionMessage(content='There are several books that are commonly recommended for learning data engineering. Here are some popular choices:\\n\\n1. \"Data Engineering with Python\" by Paul Crickard III and Joe Robison - This book provides a practical guide to data engineering using Python. It covers topics such as data ingestion, data processing, and building data pipelines.\\n\\n2. \"Designing Data-Intensive Applications\" by Martin Kleppmann - This book covers the principles and best practices for building data systems that are scalable, reliable, and maintainable. It is a comprehensive guide to data engineering concepts and techniques.\\n\\n3. \"Data Science for Business\" by Foster Provost and Tom Fawcett - While not specifically focused on data engineering, this book provides insights into how data can be used to drive business decisions. Understanding the business perspective can be valuable for data engineers working on data projects.\\n\\n4. \"Building Data Pipelines with Python\" by Jules S. Damji, Brooke Wenig, Tathagata Das, and Denny Lee - This book focuses on building data pipelines using Python and Apache Spark. It covers topics such as data ingestion, transformation, and storage.\\n\\n5. \"Streaming Systems\" by Tyler Akidau, Slava Chernyak, and Reuven Lax - This book explores the principles behind streaming data systems and how they can be used in real-time data processing. Understanding streaming systems is essential for many data engineering projects.\\n\\nThese are just a few recommendations, and there are many other great books out there on data engineering. Depending on your specific interests and goals, you may find other books that are more tailored to your needs.', role='assistant', function_call=None, tool_calls=None))], created=1708439186, model='gpt-3.5-turbo-0125', object='chat.completion', system_fingerprint='fp_69829325d0', usage=CompletionUsage(completion_tokens=331, prompt_tokens=27, total_tokens=358))"
      ]
     },
     "execution_count": 13,
     "metadata": {},
     "output_type": "execute_result"
    }
   ],
   "source": [
    "response"
   ]
  },
  {
   "cell_type": "code",
   "execution_count": 15,
   "metadata": {},
   "outputs": [
    {
     "name": "stdout",
     "output_type": "stream",
     "text": [
      "There are several books that are commonly recommended for learning data engineering. Here are some popular choices:\n",
      "\n",
      "1. \"Data Engineering with Python\" by Paul Crickard III and Joe Robison - This book provides a practical guide to data engineering using Python. It covers topics such as data ingestion, data processing, and building data pipelines.\n",
      "\n",
      "2. \"Designing Data-Intensive Applications\" by Martin Kleppmann - This book covers the principles and best practices for building data systems that are scalable, reliable, and maintainable. It is a comprehensive guide to data engineering concepts and techniques.\n",
      "\n",
      "3. \"Data Science for Business\" by Foster Provost and Tom Fawcett - While not specifically focused on data engineering, this book provides insights into how data can be used to drive business decisions. Understanding the business perspective can be valuable for data engineers working on data projects.\n",
      "\n",
      "4. \"Building Data Pipelines with Python\" by Jules S. Damji, Brooke Wenig, Tathagata Das, and Denny Lee - This book focuses on building data pipelines using Python and Apache Spark. It covers topics such as data ingestion, transformation, and storage.\n",
      "\n",
      "5. \"Streaming Systems\" by Tyler Akidau, Slava Chernyak, and Reuven Lax - This book explores the principles behind streaming data systems and how they can be used in real-time data processing. Understanding streaming systems is essential for many data engineering projects.\n",
      "\n",
      "These are just a few recommendations, and there are many other great books out there on data engineering. Depending on your specific interests and goals, you may find other books that are more tailored to your needs.\n"
     ]
    }
   ],
   "source": [
    "print(response.choices[0].message.content)"
   ]
  },
  {
   "cell_type": "code",
   "execution_count": 16,
   "metadata": {},
   "outputs": [
    {
     "name": "stdout",
     "output_type": "stream",
     "text": [
      "Data engineering is a comprehensive field that encompasses multiple aspects of working with large datasets, including data collection, storage, processing, and analysis. To learn data engineering, a combination of textbooks, practical tutorials, and online resources is often recommended. The following list includes highly regarded books for learners at various stages of their journey into data engineering:\n",
      "\n",
      "### For Beginners\n",
      "\n",
      "1. **\"Data Engineering for Dummies\" by Nathan Marz and James Warren (If available)**\n",
      "   - While not specifically existing under this title, beginners might seek resources styled similarly to the \"for Dummies\" series. Books or resources by Nathan Marz, including discussions on the Lambda Architecture for managing large-scale data, can be incredibly insightful for beginners.\n",
      "\n",
      "2. **\"Designing Data-Intensive Applications\" by Martin Kleppmann**\n",
      "   - This book is great to understand the foundational principles of data systems, which are crucial for all data engineers. It covers a variety of topics from databases, storage, retrieval, scalability, consistency, and more.\n",
      "\n",
      "### Intermediate to Advanced\n",
      "\n",
      "3. **\"Streaming Systems\" by Tyler Akidau, Slava Chernyak, and Reuven Lax**\n",
      "   - For those interested in real-time data processing systems, this book provides extensive insights into how modern streaming engines work, including detailed explanations on watermarks, exactly-once semantics, and stream processing APIs.\n",
      "\n",
      "4. **\"Building Data Streaming Applications with Apache Kafka\" by Manish Kumar and Chanchal Singh**\n",
      "   - Apache Kafka is a cornerstone technology in data engineering for managing data pipelines and real-time streaming data. This book is great for understanding how to harness the power of Kafka in building effective data streaming applications.\n",
      "\n",
      "5. **\"Designing Data-Intensive Applications: The Big Ideas Behind Reliable, Scalable, and Maintainable Systems\" by Martin Kleppmann** (mentioned again for its depth)\n",
      "   - As learners progress, revisiting this book to delve deeper into the topics can provide new insights and a stronger grasp of complex data system designs.\n",
      "\n",
      "### Specialized Topics\n",
      "\n",
      "6. **\"High Performance Spark\" by Holden Karau and Rachel Warren**\n",
      "   - Spark is one of the leading platforms for large-scale SQL, batch processing, stream processing, and machine learning. This book is suitable for data engineers looking to optimize their Spark applications for maximum efficiency and performance.\n",
      "\n",
      "7. **\"The Data Warehouse Toolkit: The Definitive Guide to Dimensional Modeling, 3rd Edition\" by Ralph Kimball and Margy Ross**\n",
      "   - For those focusing on the intricacies of data warehousing and dimensional modeling, this comprehensive guide details techniques for designing data warehouses that are both scalable and manageable.\n",
      "\n",
      "### Practical and Hands-On\n",
      "\n",
      "8. **\"Practical DataOps: Delivering Agile Data Science at Scale\" by Harvinder Atwal**\n",
      "   - This book offers insights into DataOps, an emerging discipline that focuses on improving collaboration, integration, and automation of data flows in businesses. It's great for understanding how to make data operations more efficient and agile.\n",
      "\n",
      "### Supplementary Reading\n",
      "\n",
      "9. **Online Documentation and Courseware**\n",
      "    - Apart from books, don't overlook the importance of official documentation for tools and technologies (like Apache Spark, Hadoop, Kafka, etc.), blogs, and online course platforms like Coursera, Udacity, and edX, which offer specialized courses in data engineering.\n",
      "\n",
      "Each book caters to different aspects of data engineering and targets different skill levels. As the field is constantly evolving, staying updated with the latest technologies and practices through forums, blogs, and technical documentation is equally crucial.\n"
     ]
    }
   ],
   "source": [
    "from openai import OpenAI\n",
    "client = OpenAI(api_key=\"\")\n",
    "\n",
    "response = client.chat.completions.create(\n",
    "  model=\"gpt-4-0125-preview\",\n",
    "  messages=[\n",
    "    {\"role\": \"system\", \"content\": \"You are an expert in data engineering.\"},\n",
    "    {\"role\": \"user\", \"content\": \"What books are recommended to learn data engineering\"},\n",
    "  ]\n",
    ")\n",
    "\n",
    "print(response.choices[0].message.content)"
   ]
  },
  {
   "cell_type": "markdown",
   "metadata": {},
   "source": [
    "DALL·E-3 is the latest version of our DALL-E text-to-image generation models"
   ]
  },
  {
   "cell_type": "code",
   "execution_count": 17,
   "metadata": {},
   "outputs": [],
   "source": [
    "from openai import OpenAI\n",
    "client = OpenAI(api_key=\"\")\n",
    "\n",
    "response = client.images.generate(\n",
    "  model=\"dall-e-3\",\n",
    "  prompt=\"a hacker writing code in the terminal in front of dual monitors\",\n",
    "  size=\"1024x1024\",\n",
    "  quality=\"standard\",\n",
    "  n=1,\n",
    ")\n",
    "\n",
    "image_url = response.data[0].url"
   ]
  },
  {
   "cell_type": "code",
   "execution_count": 18,
   "metadata": {},
   "outputs": [
    {
     "data": {
      "text/plain": [
       "'https://oaidalleapiprodscus.blob.core.windows.net/private/org-1TmELGkQ2E7TWwvnCisqVtDB/user-Vrwx86JHopsh7FgWgAT8snOB/img-p4uGnKdslIjHVDqm6urG1WG1.png?st=2024-02-20T13%3A50%3A30Z&se=2024-02-20T15%3A50%3A30Z&sp=r&sv=2021-08-06&sr=b&rscd=inline&rsct=image/png&skoid=6aaadede-4fb3-4698-a8f6-684d7786b067&sktid=a48cca56-e6da-484e-a814-9c849652bcb3&skt=2024-02-20T14%3A16%3A27Z&ske=2024-02-21T14%3A16%3A27Z&sks=b&skv=2021-08-06&sig=JBFOP5XePlgVsMHrmevjLHrl9W/xBBgKJbz3q4AVHA0%3D'"
      ]
     },
     "execution_count": 18,
     "metadata": {},
     "output_type": "execute_result"
    }
   ],
   "source": [
    "image_url"
   ]
  }
 ],
 "metadata": {
  "kernelspec": {
   "display_name": "Python 3",
   "language": "python",
   "name": "python3"
  },
  "language_info": {
   "codemirror_mode": {
    "name": "ipython",
    "version": 3
   },
   "file_extension": ".py",
   "mimetype": "text/x-python",
   "name": "python",
   "nbconvert_exporter": "python",
   "pygments_lexer": "ipython3",
   "version": "3.8.2"
  }
 },
 "nbformat": 4,
 "nbformat_minor": 2
}
